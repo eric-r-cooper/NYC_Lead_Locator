{
 "cells": [
  {
   "cell_type": "markdown",
   "metadata": {},
   "source": [
    "## Model Building and Evaluation\n",
    "\n",
    "In this notebook I will train a logistic regression and random forest classifier on the lead service line data. After a train/test split I will downsample the majority class (no lead) and use 5-fold cross validation to optimize the F1 statistic."
   ]
  },
  {
   "cell_type": "code",
   "execution_count": 1,
   "metadata": {},
   "outputs": [],
   "source": [
    "#Import necessary libraries\n",
    "import pandas as pd\n",
    "import numpy as np\n",
    "import seaborn as sns\n",
    "import matplotlib.pyplot as plt\n",
    "import matplotlib.mlab as mlab\n",
    "import sklearn\n",
    "from shapely.geometry import multipolygon\n",
    "import shapely.wkt\n",
    "import geopandas\n"
   ]
  },
  {
   "cell_type": "markdown",
   "metadata": {},
   "source": [
    "# Begin Models"
   ]
  },
  {
   "cell_type": "code",
   "execution_count": 2,
   "metadata": {},
   "outputs": [
    {
     "data": {
      "text/plain": [
       "(604182, 21)"
      ]
     },
     "execution_count": 2,
     "metadata": {},
     "output_type": "execute_result"
    }
   ],
   "source": [
    "#Data too big to push to github.\n",
    "lead_data = pd.read_csv('model_data.csv')\n",
    "lead_data.shape"
   ]
  },
  {
   "cell_type": "markdown",
   "metadata": {},
   "source": [
    "Create dummy variables of categorical data."
   ]
  },
  {
   "cell_type": "code",
   "execution_count": 3,
   "metadata": {},
   "outputs": [],
   "source": [
    "#lead_data = t\n",
    "#Create dummy variables\n",
    "dummy_cityowned = pd.get_dummies(lead_data['CityOwned'],prefix='city')\n",
    "dummy_zip = pd.get_dummies(lead_data['zip'], prefix='zip')\n",
    "dummy_taxclass = pd.get_dummies(lead_data['taxclass'],prefix='tax')\n",
    "\n",
    "dummy_taxclass.drop('tax_1',inplace=True,axis=1)\n",
    "dummy_cityowned.drop('city_No', inplace=True, axis=1)\n",
    "dummy_zip.drop('zip_10002', inplace=True, axis=1)\n",
    "all_dummy = pd.concat([dummy_taxclass,dummy_cityowned, dummy_zip], axis=1)\n",
    "lead_data_dummies = pd.concat([lead_data, all_dummy], axis=1)\n"
   ]
  },
  {
   "cell_type": "markdown",
   "metadata": {},
   "source": [
    "Here I will split the data into test and training set. I will then upsample the lead class in the training set. Note that the technique used below will be to oversample first, and then perform 5-fold cross validation. In the future I would look to oversample within each iteration of the cross validation"
   ]
  },
  {
   "cell_type": "code",
   "execution_count": 7,
   "metadata": {},
   "outputs": [],
   "source": [
    "from sklearn.model_selection import train_test_split\n",
    "from sklearn.utils import resample\n",
    "\n",
    "lead_data_train, lead_data_test = train_test_split(lead_data_dummies, test_size=0.2)\n",
    "dummy_names = list(all_dummy.columns)\n",
    "tax_names = list(dummy_taxclass.columns)\n",
    "zip_names = list(dummy_zip.columns)\n",
    "city_names = list(dummy_cityowned.columns)\n",
    "#features = ['Construction Year','fullval','bldfront','blddepth', 'GROUNDELEV','Lead_Index_tenth'] + tax_names + city_names\n",
    "#features = ['Construction Year','Lead_Index_tenth','Lead_Index_quarter','bldfront','blddepth', 'GROUNDELEV'] +city_names + tax_names\n",
    "features = ['Construction Year', 'Lead_Index_quarter','bldfront','blddepth','GROUNDELEV', 'Median_Income','nn_diff'] + city_names+tax_names\n",
    "\n",
    "#Separate classes\n",
    "lead = lead_data_train[lead_data_train['Pipe Material'] == 1]\n",
    "no_lead = lead_data_train[lead_data_train['Pipe Material'] == 0]\n",
    "\n",
    "#Upsample lead\n",
    "lead_upsample = resample(lead, replace=True, n_samples=no_lead.shape[0]) \n",
    " \n",
    "#Combine the upsampled lead with no lead data\n",
    "lead_upsample = pd.concat([no_lead, lead_upsample])\n",
    " \n",
    "\n",
    "X_train = lead_upsample[features]\n",
    "Y_train = lead_upsample['Pipe Material']\n",
    "X_test = lead_data_test[features]\n",
    "Y_test = lead_data_test['Pipe Material']\n"
   ]
  },
  {
   "cell_type": "markdown",
   "metadata": {},
   "source": [
    "Here I begin the model building with a logistic regression. "
   ]
  },
  {
   "cell_type": "code",
   "execution_count": 8,
   "metadata": {},
   "outputs": [
    {
     "name": "stderr",
     "output_type": "stream",
     "text": [
      "C:\\Users\\Eric\\Anaconda3\\lib\\site-packages\\sklearn\\cross_validation.py:41: DeprecationWarning: This module was deprecated in version 0.18 in favor of the model_selection module into which all the refactored classes and functions are moved. Also note that the interface of the new CV iterators are different from that of this module. This module will be removed in 0.20.\n",
      "  \"This module will be removed in 0.20.\", DeprecationWarning)\n",
      "C:\\Users\\Eric\\Anaconda3\\lib\\site-packages\\sklearn\\ensemble\\weight_boosting.py:29: DeprecationWarning: numpy.core.umath_tests is an internal NumPy module and should not be imported. It will be removed in a future NumPy release.\n",
      "  from numpy.core.umath_tests import inner1d\n"
     ]
    },
    {
     "name": "stdout",
     "output_type": "stream",
     "text": [
      "{'fit_time': array([10.12019753, 10.6608851 ,  8.65703726,  9.08579254, 10.93073392]), 'score_time': array([1.32423925, 0.45177078, 0.411762  , 0.41076088, 0.39377189]), 'test_precision': array([0.64319584, 0.66638092, 0.6285698 , 0.64099266, 0.66626416]), 'train_precision': array([0.64418238, 0.66751582, 0.627793  , 0.63963112, 0.66727902]), 'test_recall': array([0.74585274, 0.73661382, 0.73525251, 0.74494181, 0.73638693]), 'train_recall': array([0.74489176, 0.73789258, 0.73468285, 0.74470577, 0.73806275]), 'test_f1': array([0.69073089, 0.69973947, 0.67773862, 0.68906899, 0.69957272]), 'train_f1': array([0.6908863 , 0.70094212, 0.67704503, 0.68818073, 0.70088828]), 'test_roc_auc': array([0.72561262, 0.75493651, 0.69448975, 0.71755764, 0.75465593]), 'train_roc_auc': array([0.72501676, 0.75610576, 0.69286445, 0.71706939, 0.75577704])}\n"
     ]
    }
   ],
   "source": [
    "from sklearn.model_selection import KFold\n",
    "from sklearn.cross_validation import cross_val_score, cross_val_predict\n",
    "from sklearn.model_selection import cross_validate\n",
    "from sklearn import metrics\n",
    "from sklearn.linear_model import LogisticRegression\n",
    "from sklearn.ensemble import RandomForestClassifier\n",
    "\n",
    "\n",
    "\n",
    "logreg = LogisticRegression()\n",
    "#logreg.fit(X_train,Y_train)\n",
    "scores = cross_validate(logreg, X_train, Y_train, cv=5, scoring = ('precision','recall','f1','roc_auc'))\n",
    "print(scores)\n"
   ]
  },
  {
   "cell_type": "markdown",
   "metadata": {},
   "source": [
    "Now we will evaluate the logistic regression on the test set."
   ]
  },
  {
   "cell_type": "code",
   "execution_count": 15,
   "metadata": {},
   "outputs": [
    {
     "name": "stdout",
     "output_type": "stream",
     "text": [
      "Accuracy of logistic regression classifier on test set: 0.66\n",
      "[[59689 34269]\n",
      " [ 7091 19788]]\n",
      "             precision    recall  f1-score   support\n",
      "\n",
      "          0       0.89      0.64      0.74     93958\n",
      "          1       0.37      0.74      0.49     26879\n",
      "\n",
      "avg / total       0.78      0.66      0.69    120837\n",
      "\n"
     ]
    }
   ],
   "source": [
    "from sklearn.metrics import confusion_matrix, classification_report, accuracy_score\n",
    "from sklearn.metrics import roc_curve\n",
    "from sklearn.metrics import roc_auc_score\n",
    "from matplotlib import pyplot\n",
    "\n",
    "#Fit the logistic regression\n",
    "logreg.fit(X_train,Y_train)\n",
    "\n",
    "#Predict\n",
    "y_pred_log = logreg.predict(X_test)\n",
    "print('Accuracy of logistic regression classifier on test set: {:.2f}'.format(logreg.score(X_test, Y_test)))\n",
    "\n",
    "\n",
    "cm = confusion_matrix(Y_test, y_pred_log)\n",
    "print(cm)\n",
    "print(classification_report(Y_test,y_pred_log))\n",
    "\n",
    "\n",
    "\n"
   ]
  },
  {
   "cell_type": "code",
   "execution_count": 20,
   "metadata": {},
   "outputs": [
    {
     "name": "stdout",
     "output_type": "stream",
     "text": [
      "No Skill: ROC AUC=0.500\n",
      "Logistic: ROC AUC=0.756\n"
     ]
    },
    {
     "data": {
      "image/png": "[encoded data removed]",
      "text/plain": [
       "<Figure size 432x288 with 1 Axes>"
      ]
     },
     "metadata": {
      "needs_background": "light"
     },
     "output_type": "display_data"
    }
   ],
   "source": [
    "#no skill prob\n",
    "ns_probs = [0 for _ in range(len(Y_test))]\n",
    "\n",
    "#\n",
    "lr_probs = logreg.predict_proba(X_test)\n",
    "\n",
    "# keep probabilities for the positive outcome only\n",
    "lr_probs = lr_probs[:, 1]\n",
    "# calculate scores\n",
    "ns_auc = roc_auc_score(Y_test, ns_probs)\n",
    "lr_auc = roc_auc_score(Y_test, lr_probs)\n",
    "# summarize scores\n",
    "print('No Skill: ROC AUC=%.3f' % (ns_auc))\n",
    "print('Logistic: ROC AUC=%.3f' % (lr_auc))\n",
    "\n",
    "# calculate roc curves\n",
    "ns_fpr, ns_tpr, _ = roc_curve(Y_test, ns_probs)\n",
    "lr_fpr, lr_tpr, _ = roc_curve(Y_test, lr_probs)\n",
    "# plot the roc curve for the model\n",
    "pyplot.plot(ns_fpr, ns_tpr, linestyle='--', label='No Skill')\n",
    "pyplot.plot(lr_fpr, lr_tpr, marker='.', label='Logistic')\n",
    "# axis labels\n",
    "pyplot.xlabel('False Positive Rate')\n",
    "pyplot.ylabel('True Positive Rate')\n",
    "# show the legend\n",
    "pyplot.legend()\n",
    "# show the plot\n",
    "pyplot.show()"
   ]
  },
  {
   "cell_type": "markdown",
   "metadata": {},
   "source": [
    "I will now train random forest classifier. First I will see the validation scores using a 5-fold split. Then I will tune hyperparameters to optimize F1."
   ]
  },
  {
   "cell_type": "code",
   "execution_count": 21,
   "metadata": {},
   "outputs": [
    {
     "name": "stdout",
     "output_type": "stream",
     "text": [
      "{'fit_time': array([112.30859041, 130.99887586, 121.58927107, 109.6031425 ,\n",
      "       103.40569687]), 'score_time': array([23.76037431, 15.84091711, 15.50710773, 14.71955872, 14.79851341]), 'test_precision': array([0.87914715, 0.87999422, 0.87817643, 0.88000626, 0.87702029]), 'train_precision': array([0.99949972, 0.9995264 , 0.99950973, 0.99949973, 0.99942974]), 'test_recall': array([0.97677802, 0.97562994, 0.97640401, 0.97623051, 0.97623051]), 'train_recall': array([0.99990324, 0.9999266 , 0.99991992, 0.99991659, 0.9999266 ]), 'test_f1': array([0.92539465, 0.92534763, 0.92468892, 0.92562433, 0.92396989]), 'train_f1': array([0.99970144, 0.99972646, 0.99971479, 0.99970811, 0.99967811]), 'test_roc_auc': array([0.98511356, 0.98535695, 0.9851205 , 0.98514969, 0.98518944]), 'train_roc_auc': array([0.99999887, 0.99999883, 0.99999892, 0.99999888, 0.99999893])}\n"
     ]
    }
   ],
   "source": [
    "##### CROSS VAL RF\n",
    "from sklearn.model_selection import KFold\n",
    "\n",
    "\n",
    "rf=RandomForestClassifier(n_estimators =35)\n",
    "scores = cross_validate(rf, X_train, Y_train, cv=5, scoring = ('precision','recall','f1','roc_auc'))\n",
    "print(scores)\n"
   ]
  },
  {
   "cell_type": "markdown",
   "metadata": {},
   "source": [
    "Next I will use 5-fold cross validation to tune hyperparameters to optimize F1. "
   ]
  },
  {
   "cell_type": "code",
   "execution_count": 16,
   "metadata": {},
   "outputs": [
    {
     "name": "stdout",
     "output_type": "stream",
     "text": [
      "{'n_estimators': [100, 150, 200], 'max_features': ['auto', 'sqrt'], 'max_depth': [10, 20, 30, 40, 50, 60, 70, 80, 90, 100, 110, None], 'min_samples_split': [2, 5, 10], 'min_samples_leaf': [1, 2, 4], 'bootstrap': [True, False], 'class_weight': ['balanced']}\n"
     ]
    }
   ],
   "source": [
    "from sklearn.model_selection import RandomizedSearchCV\n",
    "\n",
    "# Number of trees in random forest\n",
    "n_estimators = [int(x) for x in np.linspace(start = 100, stop = 200, num = 3)]\n",
    "# Number of features to consider at every split\n",
    "max_features = ['auto', 'sqrt']\n",
    "# Maximum number of levels in tree\n",
    "max_depth = [int(x) for x in np.linspace(10, 110, num = 11)]\n",
    "max_depth.append(None)\n",
    "# Minimum number of samples required to split a node\n",
    "min_samples_split = [2, 5, 10]\n",
    "# Minimum number of samples required at each leaf node\n",
    "min_samples_leaf = [1, 2, 4]\n",
    "# Method of selecting samples for training each tree\n",
    "bootstrap = [True, False]\n",
    "weight = ['balanced']\n",
    "# Create the random grid\n",
    "random_grid = {'n_estimators': n_estimators,\n",
    "               'max_features': max_features,\n",
    "               'max_depth': max_depth,\n",
    "               'min_samples_split': min_samples_split,\n",
    "               'min_samples_leaf': min_samples_leaf,\n",
    "               'bootstrap': bootstrap,\n",
    "               'class_weight': weight}\n",
    "print(random_grid)"
   ]
  },
  {
   "cell_type": "code",
   "execution_count": null,
   "metadata": {},
   "outputs": [
    {
     "name": "stdout",
     "output_type": "stream",
     "text": [
      "Fitting 5 folds for each of 20 candidates, totalling 100 fits\n"
     ]
    }
   ],
   "source": [
    "%%time\n",
    "# Use the random grid to search for best hyperparameters\n",
    "# First create the base model to tune\n",
    "from sklearn.ensemble import RandomForestClassifier\n",
    "rf = RandomForestClassifier()\n",
    "# Random search of parameters, using 5 fold cross validation, \n",
    "# search across 50 different combinations, and use all available cores\n",
    "rf_random = RandomizedSearchCV(estimator = rf, scoring = 'f1', param_distributions = random_grid, n_iter = 20, cv = 5, verbose=3, random_state=42, n_jobs = -1)\n",
    "# Fit the random  search model\n",
    "rf_random.fit(X_train, Y_train)"
   ]
  },
  {
   "cell_type": "code",
   "execution_count": 18,
   "metadata": {},
   "outputs": [
    {
     "data": {
      "text/plain": [
       "{'n_estimators': 150,\n",
       " 'min_samples_split': 5,\n",
       " 'min_samples_leaf': 1,\n",
       " 'max_features': 'auto',\n",
       " 'max_depth': None,\n",
       " 'class_weight': 'balanced',\n",
       " 'bootstrap': True}"
      ]
     },
     "execution_count": 18,
     "metadata": {},
     "output_type": "execute_result"
    }
   ],
   "source": [
    "  rf_random.best_params_"
   ]
  },
  {
   "cell_type": "code",
   "execution_count": null,
   "metadata": {},
   "outputs": [],
   "source": [
    "rf_best = rf_random.best_estimator_"
   ]
  },
  {
   "cell_type": "code",
   "execution_count": 30,
   "metadata": {},
   "outputs": [
    {
     "name": "stdout",
     "output_type": "stream",
     "text": [
      "Accuracy of best RF classifier on test set: 0.82\n",
      "[[84469  9029]\n",
      " [12251 15088]]\n",
      "             precision    recall  f1-score   support\n",
      "\n",
      "          0       0.87      0.90      0.89     93498\n",
      "          1       0.63      0.55      0.59     27339\n",
      "\n",
      "avg / total       0.82      0.82      0.82    120837\n",
      "\n"
     ]
    }
   ],
   "source": [
    "from sklearn.metrics import confusion_matrix, classification_report, accuracy_score\n",
    "\n",
    "#Train best model\n",
    "rf_best=RandomForestClassifier(n_estimators =150, min_samples_split=5, min_samples_leaf=1, max_features='auto', max_depth=None, class_weight='balanced', bootstrap=True)\n",
    "rf_best.fit(X_train,Y_train)\n",
    "\n",
    "y_pred_best = rf_best.predict(X_test)\n",
    "\n",
    "print('Accuracy of best RF classifier on test set: {:.2f}'.format(rf_best.score(X_test, Y_test)))\n",
    "\n",
    "\n",
    "cm_best = confusion_matrix(Y_test, y_pred_best)\n",
    "print(cm_best)\n",
    "print(classification_report(Y_test,y_pred_best))\n"
   ]
  },
  {
   "cell_type": "code",
   "execution_count": 32,
   "metadata": {},
   "outputs": [
    {
     "name": "stdout",
     "output_type": "stream",
     "text": [
      "Accuracy of base RF classifier on test set: 0.81\n",
      "[[87121  6377]\n",
      " [16070 11269]]\n",
      "             precision    recall  f1-score   support\n",
      "\n",
      "          0       0.84      0.93      0.89     93498\n",
      "          1       0.64      0.41      0.50     27339\n",
      "\n",
      "avg / total       0.80      0.81      0.80    120837\n",
      "\n",
      "No Skill: ROC AUC=0.500\n",
      "Random Forest (Base Model): ROC AUC=0.841\n",
      "Random Forest (Best Model): ROC AUC=0.873\n"
     ]
    },
    {
     "data": {
      "image/png": "[encoded data removed]",
      "text/plain": [
       "<Figure size 432x288 with 1 Axes>"
      ]
     },
     "metadata": {
      "needs_background": "light"
     },
     "output_type": "display_data"
    },
    {
     "data": {
      "text/plain": [
       "<Figure size 1080x1080 with 0 Axes>"
      ]
     },
     "metadata": {},
     "output_type": "display_data"
    }
   ],
   "source": [
    "from sklearn.metrics import confusion_matrix, classification_report, accuracy_score\n",
    "\n",
    "\n",
    "rf_base=RandomForestClassifier(n_estimators =10, class_weight='balanced')\n",
    "\n",
    "rf_base.fit(X_train,Y_train)\n",
    "y_pred_base = rf_base.predict(X_test)\n",
    "\n",
    "print('Accuracy of base RF classifier on test set: {:.2f}'.format(rf_base.score(X_test, Y_test)))\n",
    "\n",
    "\n",
    "cm_base = confusion_matrix(Y_test, y_pred_base)\n",
    "print(cm_base)\n",
    "print(classification_report(Y_test,y_pred_base))\n",
    "\n",
    "\n",
    "#no skill prob\n",
    "ns_probs = [0 for _ in range(len(X_test))]\n",
    "rf_base_probs = rf_base.predict_proba(X_test)\n",
    "rf_best_probs = rf_best.predict_proba(X_test)\n",
    "\n",
    "# keep probabilities for the positive outcome only\n",
    "rf_base_probs = rf_base_probs[:, 1]\n",
    "rf_best_probs = rf_best_probs[:, 1]\n",
    "\n",
    "# calculate scores\n",
    "ns_auc = roc_auc_score(Y_test, ns_probs)\n",
    "rf_base_auc = roc_auc_score(Y_test, rf_base_probs)\n",
    "rf_best_auc = roc_auc_score(Y_test, rf_best_probs)\n",
    "\n",
    "# summarize scores\n",
    "print('No Skill: ROC AUC=%.3f' % (ns_auc))\n",
    "print('Random Forest (Base Model): ROC AUC=%.3f' % (rf_base_auc))\n",
    "print('Random Forest (Best Model): ROC AUC=%.3f' % (rf_best_auc))\n",
    "\n",
    "\n",
    "# calculate roc curves\n",
    "ns_fpr, ns_tpr, _ = roc_curve(Y_test, ns_probs)\n",
    "rf_base_fpr, rf_base_tpr, _ = roc_curve(Y_test, rf_base_probs)\n",
    "rf_best_fpr, rf_best_tpr, _ = roc_curve(Y_test, rf_best_probs)\n",
    "\n",
    "# plot the roc curve for the model\n",
    "pyplot.plot(ns_fpr, ns_tpr, linestyle='--', label='Dummy Classifier')\n",
    "pyplot.plot(rf_base_fpr, rf_base_tpr, marker='.', label='Base Model')\n",
    "pyplot.plot(rf_best_fpr, rf_best_tpr, marker='.', label='Best Model')\n",
    "\n",
    "# axis labels\n",
    "pyplot.xlabel('False Positive Rate')\n",
    "pyplot.ylabel('True Positive Rate')\n",
    "# show the legend\n",
    "pyplot.legend()\n",
    "pyplot.figure(figsize =(15,15))\n",
    "# show the plot\n",
    "pyplot.show()\n"
   ]
  },
  {
   "cell_type": "markdown",
   "metadata": {},
   "source": [
    "# Naive Bayes"
   ]
  },
  {
   "cell_type": "code",
   "execution_count": 22,
   "metadata": {},
   "outputs": [
    {
     "name": "stdout",
     "output_type": "stream",
     "text": [
      "Accuracy of Gaussian NB classifier on test set: 0.56\n",
      "[[42536 51422]\n",
      " [ 1827 25052]]\n",
      "             precision    recall  f1-score   support\n",
      "\n",
      "          0       0.96      0.45      0.62     93958\n",
      "          1       0.33      0.93      0.48     26879\n",
      "\n",
      "avg / total       0.82      0.56      0.59    120837\n",
      "\n",
      "Accuracy: 0.55933199268436\n",
      "No Skill: ROC AUC=0.500\n",
      "Naive Bayes: ROC AUC=0.757\n"
     ]
    },
    {
     "data": {
      "image/png": "[encoded data removed]",
      "text/plain": [
       "<Figure size 432x288 with 1 Axes>"
      ]
     },
     "metadata": {
      "needs_background": "light"
     },
     "output_type": "display_data"
    }
   ],
   "source": [
    "from sklearn.naive_bayes import GaussianNB\n",
    "\n",
    "gnb = GaussianNB()\n",
    "gnb.fit(X_train,Y_train)\n",
    "predictions_gnb = gnb.predict(X_test)\n",
    "\n",
    "print('Accuracy of Gaussian NB classifier on test set: {:.2f}'.format(gnb.score(X_test, Y_test)))\n",
    "\n",
    "confusion_matgnb = confusion_matrix(Y_test,predictions_gnb.tolist())\n",
    "print(confusion_matgnb)\n",
    "\n",
    "print(classification_report(Y_test,predictions_gnb))\n",
    "print('Accuracy:', accuracy_score(Y_test,predictions_gnb))\n",
    "\n",
    "ns_probs = [0 for _ in range(len(Y_test))]\n",
    "nb_probs = gnb.predict_proba(X_test)\n",
    "# keep probabilities for the positive outcome only\n",
    "nb_probs = nb_probs[:, 1]\n",
    "# calculate scores\n",
    "ns_auc = roc_auc_score(Y_test, ns_probs)\n",
    "nb_auc = roc_auc_score(Y_test, nb_probs)\n",
    "# summarize scores\n",
    "print('No Skill: ROC AUC=%.3f' % (ns_auc))\n",
    "print('Naive Bayes: ROC AUC=%.3f' % (nb_auc))\n",
    "# calculate roc curves\n",
    "ns_fpr, ns_tpr, _ = roc_curve(Y_test, ns_probs)\n",
    "nb_fpr, nb_tpr, _ = roc_curve(Y_test, nb_probs)\n",
    "# plot the roc curve for the model\n",
    "pyplot.plot(ns_fpr, ns_tpr, linestyle='--', label='No Skill')\n",
    "pyplot.plot(nb_fpr, nb_tpr, marker='.', label='Naive Bayes')\n",
    "# axis labels\n",
    "pyplot.xlabel('False Positive Rate')\n",
    "pyplot.ylabel('True Positive Rate')\n",
    "# show the legend\n",
    "pyplot.legend()\n",
    "# show the plot\n",
    "pyplot.show()"
   ]
  },
  {
   "cell_type": "code",
   "execution_count": null,
   "metadata": {},
   "outputs": [],
   "source": []
  }
 ],
 "metadata": {
  "kernelspec": {
   "display_name": "Python 3",
   "language": "python",
   "name": "python3"
  },
  "language_info": {
   "codemirror_mode": {
    "name": "ipython",
    "version": 3
   },
   "file_extension": ".py",
   "mimetype": "text/x-python",
   "name": "python",
   "nbconvert_exporter": "python",
   "pygments_lexer": "ipython3",
   "version": "3.7.0"
  }
 },
 "nbformat": 4,
 "nbformat_minor": 2
}
