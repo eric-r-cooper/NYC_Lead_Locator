{
 "cells": [
  {
   "cell_type": "markdown",
   "metadata": {},
   "source": [
    "## NYC Lead Locator\n",
    "\n",
    "This notebook includes the steps of acquiring and combining the data to be used to predict the locations of lead water service lines in New York City. The NYC Open Data Portal contains a dataset with a list of addresses with labeled water service line material. In addition, other datasets in the NYC Open Data Portal included supplementary information regarding construction year, location, dimensions, and market value of buldings by their Borough/Building/Lot (BBL) code. The property value/tax dataset was quite large and required the use of an API to query relevant parts of the dataset. Then Census Tract data was pulled in from the 2013 American Community Survey (U.S. Census Bureau)"
   ]
  },
  {
   "cell_type": "code",
   "execution_count": 2,
   "metadata": {},
   "outputs": [],
   "source": [
    "#Import necessary libraries\n",
    "import pandas as pd\n",
    "import numpy as np\n",
    "from shapely.geometry import multipolygon\n",
    "import shapely.wkt\n",
    "import geopandas\n",
    "import sodapy as Socrata\n",
    "import requests"
   ]
  },
  {
   "cell_type": "code",
   "execution_count": 3,
   "metadata": {},
   "outputs": [
    {
     "data": {
      "text/html": [
       "<div>\n",
       "<style scoped>\n",
       "    .dataframe tbody tr th:only-of-type {\n",
       "        vertical-align: middle;\n",
       "    }\n",
       "\n",
       "    .dataframe tbody tr th {\n",
       "        vertical-align: top;\n",
       "    }\n",
       "\n",
       "    .dataframe thead th {\n",
       "        text-align: right;\n",
       "    }\n",
       "</style>\n",
       "<table border=\"1\" class=\"dataframe\">\n",
       "  <thead>\n",
       "    <tr style=\"text-align: right;\">\n",
       "      <th></th>\n",
       "      <th>BBL</th>\n",
       "      <th>the_geom</th>\n",
       "      <th>OBJECTID</th>\n",
       "      <th>Address</th>\n",
       "      <th>Material_G</th>\n",
       "      <th>Record_Typ</th>\n",
       "      <th>CityOwned</th>\n",
       "      <th>Shape_Leng</th>\n",
       "      <th>Shape_Area</th>\n",
       "    </tr>\n",
       "  </thead>\n",
       "  <tbody>\n",
       "    <tr>\n",
       "      <th>0</th>\n",
       "      <td>1000010010</td>\n",
       "      <td>MULTIPOLYGON (((-74.01690582604903 40.69335343...</td>\n",
       "      <td>1</td>\n",
       "      <td>1 GOVERNORS ISLAND</td>\n",
       "      <td>Not Lead</td>\n",
       "      <td>OBSERVATION</td>\n",
       "      <td>No</td>\n",
       "      <td>12277.830501</td>\n",
       "      <td>7.550344e+06</td>\n",
       "    </tr>\n",
       "    <tr>\n",
       "      <th>1</th>\n",
       "      <td>1000010101</td>\n",
       "      <td>MULTIPOLYGON (((-74.04396208819837 40.69006636...</td>\n",
       "      <td>2</td>\n",
       "      <td>1 LIBERTY ISLAND</td>\n",
       "      <td>Unknown</td>\n",
       "      <td>UNAVAILABLE</td>\n",
       "      <td>No</td>\n",
       "      <td>3940.838665</td>\n",
       "      <td>5.018972e+05</td>\n",
       "    </tr>\n",
       "    <tr>\n",
       "      <th>2</th>\n",
       "      <td>1000010201</td>\n",
       "      <td>MULTIPOLYGON (((-74.04001513069849 40.70084115...</td>\n",
       "      <td>3</td>\n",
       "      <td>1 ELLIS ISLAND</td>\n",
       "      <td>Unknown</td>\n",
       "      <td>UNAVAILABLE</td>\n",
       "      <td>No</td>\n",
       "      <td>6306.267382</td>\n",
       "      <td>1.148541e+06</td>\n",
       "    </tr>\n",
       "    <tr>\n",
       "      <th>3</th>\n",
       "      <td>1000020001</td>\n",
       "      <td>MULTIPOLYGON (((-74.01202751441055 40.70003725...</td>\n",
       "      <td>4</td>\n",
       "      <td>4 SOUTH STREET</td>\n",
       "      <td>Not Lead</td>\n",
       "      <td>HISTORICAL DATA</td>\n",
       "      <td>Yes</td>\n",
       "      <td>2721.059553</td>\n",
       "      <td>1.008251e+05</td>\n",
       "    </tr>\n",
       "    <tr>\n",
       "      <th>4</th>\n",
       "      <td>1000020002</td>\n",
       "      <td>MULTIPOLYGON (((-74.01111163437284 40.70102458...</td>\n",
       "      <td>5</td>\n",
       "      <td>10 SOUTH STREET</td>\n",
       "      <td>Unknown</td>\n",
       "      <td>HISTORICAL DATA</td>\n",
       "      <td>Yes</td>\n",
       "      <td>2411.870163</td>\n",
       "      <td>8.724413e+04</td>\n",
       "    </tr>\n",
       "  </tbody>\n",
       "</table>\n",
       "</div>"
      ],
      "text/plain": [
       "          BBL                                           the_geom  OBJECTID  \\\n",
       "0  1000010010  MULTIPOLYGON (((-74.01690582604903 40.69335343...         1   \n",
       "1  1000010101  MULTIPOLYGON (((-74.04396208819837 40.69006636...         2   \n",
       "2  1000010201  MULTIPOLYGON (((-74.04001513069849 40.70084115...         3   \n",
       "3  1000020001  MULTIPOLYGON (((-74.01202751441055 40.70003725...         4   \n",
       "4  1000020002  MULTIPOLYGON (((-74.01111163437284 40.70102458...         5   \n",
       "\n",
       "              Address Material_G       Record_Typ CityOwned    Shape_Leng  \\\n",
       "0  1 GOVERNORS ISLAND   Not Lead      OBSERVATION        No  12277.830501   \n",
       "1    1 LIBERTY ISLAND    Unknown      UNAVAILABLE        No   3940.838665   \n",
       "2      1 ELLIS ISLAND    Unknown      UNAVAILABLE        No   6306.267382   \n",
       "3      4 SOUTH STREET   Not Lead  HISTORICAL DATA       Yes   2721.059553   \n",
       "4     10 SOUTH STREET    Unknown  HISTORICAL DATA       Yes   2411.870163   \n",
       "\n",
       "     Shape_Area  \n",
       "0  7.550344e+06  \n",
       "1  5.018972e+05  \n",
       "2  1.148541e+06  \n",
       "3  1.008251e+05  \n",
       "4  8.724413e+04  "
      ]
     },
     "execution_count": 3,
     "metadata": {},
     "output_type": "execute_result"
    }
   ],
   "source": [
    "# Download the data from NYC open data\n",
    "# This dataset containts a list of addresses in NYC. Labels based primarily on historical records\n",
    "NYC = pd.read_csv('insight/NYC_WaterConnections.csv')\n",
    "NYC.head()"
   ]
  },
  {
   "cell_type": "markdown",
   "metadata": {},
   "source": [
    "This file has the identifying BBL code for 857,536 NYC addresses. Some of the material is unknown."
   ]
  },
  {
   "cell_type": "code",
   "execution_count": 4,
   "metadata": {},
   "outputs": [
    {
     "name": "stdout",
     "output_type": "stream",
     "text": [
      "The NYC dataset contains 857536 addresses with labels: Not Lead, Unknown, Lead, Non-Applicable.\n",
      "The percentage of addresses labeled Not Lead: 56.081727181132926\n",
      "The percentage of addresses labeled Lead: 16.133550078364056\n",
      "The percentage of addresses labeled Unknown: 27.69248171505336\n",
      "The percentage of addresses labeled Non-applicable: 0.09224102544966042\n"
     ]
    }
   ],
   "source": [
    "total_addresses = NYC.shape[0]\n",
    "percent_not_lead = NYC.loc[NYC['Material_G']=='Not Lead'].shape[0]/total_addresses\n",
    "percent_lead = NYC.loc[NYC['Material_G']=='Potential Lead'].shape[0]/total_addresses\n",
    "percent_unknown = NYC.loc[NYC['Material_G']=='Unknown'].shape[0]/total_addresses\n",
    "percent_NA = NYC.loc[NYC['Material_G']=='Non-Applicable'].shape[0]/total_addresses\n",
    "\n",
    "print('The NYC dataset contains', total_addresses, 'addresses with labels: Not Lead, Unknown, Lead, Non-Applicable.')\n",
    "print('The percentage of addresses labeled Not Lead:', percent_not_lead*100)\n",
    "print('The percentage of addresses labeled Lead:', percent_lead*100)\n",
    "print('The percentage of addresses labeled Unknown:', percent_unknown*100)\n",
    "print('The percentage of addresses labeled Non-applicable:', percent_NA*100)"
   ]
  },
  {
   "cell_type": "code",
   "execution_count": 98,
   "metadata": {},
   "outputs": [],
   "source": [
    "# Rename \"Material_G\" as Pipe Material\n",
    "# Drop unknown labels\n",
    "NYC.rename(columns={\"Material_G\": \"Pipe Material\"}, inplace=True)\n",
    "NYC_lead=NYC[(NYC['Pipe Material']=='Lead') | (NYC['Pipe Material']=='Not Lead')  ]\n"
   ]
  },
  {
   "cell_type": "markdown",
   "metadata": {},
   "source": [
    "To make predictions on the pipe material label, more housing data is required from the NYC Open Data Portal. The following querys property and tax information through the NYC Open Data Portal API."
   ]
  },
  {
   "cell_type": "code",
   "execution_count": null,
   "metadata": {},
   "outputs": [],
   "source": [
    "# New York City Open Data\n",
    "# https://data.cityofnewyork.us/City-Government/Property-Valuation-and-Assessment-Data/yjxr-fw8i\n",
    "socrata_domain = 'data.cityofnewyork.us'\n",
    "socrata_dataset_identifier = 'yjxr-fw8i'\n",
    "app_token = 'ZK2rqIcpP6zuUNuyUQA0Qe6Mr'\n",
    "\n",
    "client = Socrata.Socrata(socrata_domain, app_token)\n",
    "\n"
   ]
  },
  {
   "cell_type": "code",
   "execution_count": null,
   "metadata": {},
   "outputs": [],
   "source": [
    "# Here we match the list of labeled addresses with Property and Tax Information updated in January 2020. \n",
    "# This includes building value, dimensions, location, census tract, tax class (building type).\n",
    "\n",
    "def nyc_api\n",
    "\n",
    "df_2019 = pd.DataFrame()\n",
    "# Use maximum query limit (50000)\n",
    "loop_size = 50000\n",
    "num_loops = 151\n",
    "\n",
    "for i in range(num_loops):\n",
    "    results = client.get(socrata_dataset_identifier,\n",
    "                         select = 'avland, avland2, avtot, avtot2, bble, bin, blddepth, bldfront, census_tract, community_board, council_district, easement, exland,exland2, extot, extot2, fullval, ltdepth, ltfront, nta, owner, stories, taxclass, valtype, zip',\n",
    "                         limit=loop_size,\n",
    "                         offset=loop_size * i)\n",
    "    df_query = pd.DataFrame.from_dict(results)\n",
    "    df_query.drop_duplicates(subset='bble', keep='first', inplace=True)\n",
    "    df_2019 = df_2019.append(df_query[df_query['bble'].isin(list(bbl.astype(str)))],sort=False, ignore_index=False)"
   ]
  },
  {
   "cell_type": "markdown",
   "metadata": {},
   "source": [
    "There was also a NYC building data set through the NYC Open Data Portal which contains construction year. We will now merge all of the Open Portal data."
   ]
  },
  {
   "cell_type": "code",
   "execution_count": 6,
   "metadata": {},
   "outputs": [
    {
     "name": "stdout",
     "output_type": "stream",
     "text": [
      "Shape lead: (480921, 9)\n",
      "Shape building: (1084844, 15)\n",
      "Shape property: (619185, 26)\n"
     ]
    }
   ],
   "source": [
    "# Every building in NYC is identified by BBL code (borough, building, lot)\n",
    "\n",
    "# The building data set includes construction year for each building by BBL\n",
    "building = pd.read_csv(\"insight/NYC_building.csv\")\n",
    "\n",
    "# Data from API\n",
    "df_2019 = pd.read_csv(\"insight/df_2019_unique.csv\")\n",
    "\n",
    "temp_lead = NYC_lead\n",
    "temp_building = building\n",
    "temp_property = df_2019\n",
    "print('Shape lead:',temp_lead.shape )\n",
    "print('Shape building:', temp_building.shape)\n",
    "print('Shape property:', temp_property.shape)"
   ]
  },
  {
   "cell_type": "code",
   "execution_count": 112,
   "metadata": {},
   "outputs": [],
   "source": [
    "# Rename all BBL\n",
    "temp_building = temp_building.rename(columns={\"BASE_BBL\": \"BBL\"})\n",
    "temp_property = temp_property.rename(columns={\"bble\":\"BBL\"})"
   ]
  },
  {
   "cell_type": "code",
   "execution_count": 116,
   "metadata": {},
   "outputs": [
    {
     "data": {
      "text/plain": [
       "(480921, 48)"
      ]
     },
     "execution_count": 116,
     "metadata": {},
     "output_type": "execute_result"
    }
   ],
   "source": [
    "# Merge by BBL on labeled lead dataset.\n",
    "m = pd.merge(temp_lead,temp_property,on='BBL',how='left')\n",
    "n = pd.merge(m,temp_building,on='BBL',how='left')\n",
    "\n",
    "merged_data = n.drop_duplicates(subset='BBL',keep='first')\n",
    "#Building data may have multiple entries for units in buildings but each have same BBL and construction year.\n",
    "merged_data.shape"
   ]
  },
  {
   "cell_type": "markdown",
   "metadata": {},
   "source": [
    "I also brought in demographic data from the 2013 U.S. Census Bureau American Community Survey at the census tract level (approx 15000 people). Pulled Income, poverty, and racial demographics. The datasets were grouped by county, then within each county I grouped by census tract. Which can be downloaded at the ACS website."
   ]
  },
  {
   "cell_type": "code",
   "execution_count": 11,
   "metadata": {},
   "outputs": [],
   "source": [
    "Manhattan_income = pd.read_csv('insight/Manhattan_ACS_median_income.csv')\n",
    "Manhattan_poverty = pd.read_csv('insight/Manhattan_ACS_poverty.csv')\n",
    "Manhattan_race = pd.read_csv('insight/Manhattan_ACS_race.csv')\n",
    "Manhattan_hispanic = pd.read_csv('insight/Manhattan_hispanic.csv')\n",
    "\n",
    "Bronx_income = pd.read_csv('insight/Bronx_ACS_median_income.csv')\n",
    "Bronx_poverty = pd.read_csv('insight/Bronx_ACS_poverty.csv')\n",
    "Bronx_race = pd.read_csv('insight/Bronx_ACS_race.csv')\n",
    "Bronx_hispanic = pd.read_csv('insight/Bronx_hispanic.csv')\n",
    "\n",
    "Brooklyn_income = pd.read_csv('insight/Brooklyn_ACS_median_income.csv')\n",
    "Brooklyn_poverty = pd.read_csv('insight/Brooklyn_ACS_poverty.csv')\n",
    "Brooklyn_race = pd.read_csv('insight/Brooklyn_ACS_race.csv')\n",
    "Brooklyn_hispanic = pd.read_csv('insight/Brooklyn_hispanic.csv')\n",
    "\n",
    "Queens_income = pd.read_csv('insight/Queens_ACS_median_income.csv')\n",
    "Queens_poverty = pd.read_csv('insight/Queens_ACS_poverty.csv')\n",
    "Queens_race = pd.read_csv('insight/Queens_ACS_race.csv')\n",
    "Queens_hispanic = pd.read_csv('insight/Queens_hispanic.csv')\n",
    "\n",
    "StatenIsland_income = pd.read_csv('insight/StatenIsland_ACS_median_income.csv')\n",
    "StatenIsland_poverty = pd.read_csv('insight/StatenIsland_ACS_poverty.csv')\n",
    "StatenIsland_race = pd.read_csv('insight/StatenIsland_ACS_race.csv')\n",
    "StatenIsland_hispanic = pd.read_csv('insight/StatenIsland_hispanic.csv')"
   ]
  },
  {
   "cell_type": "code",
   "execution_count": 7,
   "metadata": {},
   "outputs": [
    {
     "data": {
      "text/html": [
       "<div>\n",
       "<style scoped>\n",
       "    .dataframe tbody tr th:only-of-type {\n",
       "        vertical-align: middle;\n",
       "    }\n",
       "\n",
       "    .dataframe tbody tr th {\n",
       "        vertical-align: top;\n",
       "    }\n",
       "\n",
       "    .dataframe thead th {\n",
       "        text-align: right;\n",
       "    }\n",
       "</style>\n",
       "<table border=\"1\" class=\"dataframe\">\n",
       "  <thead>\n",
       "    <tr style=\"text-align: right;\">\n",
       "      <th></th>\n",
       "      <th>GEO.id</th>\n",
       "      <th>GEO.id2</th>\n",
       "      <th>GEO.display-label</th>\n",
       "      <th>HC01_EST_VC02</th>\n",
       "      <th>HC01_MOE_VC02</th>\n",
       "      <th>HC02_EST_VC02</th>\n",
       "      <th>HC02_MOE_VC02</th>\n",
       "      <th>HC01_EST_VC04</th>\n",
       "      <th>HC01_MOE_VC04</th>\n",
       "      <th>HC02_EST_VC04</th>\n",
       "      <th>...</th>\n",
       "      <th>HC02_EST_VC39</th>\n",
       "      <th>HC02_MOE_VC39</th>\n",
       "      <th>HC01_EST_VC40</th>\n",
       "      <th>HC01_MOE_VC40</th>\n",
       "      <th>HC02_EST_VC40</th>\n",
       "      <th>HC02_MOE_VC40</th>\n",
       "      <th>HC01_EST_VC41</th>\n",
       "      <th>HC01_MOE_VC41</th>\n",
       "      <th>HC02_EST_VC41</th>\n",
       "      <th>HC02_MOE_VC41</th>\n",
       "    </tr>\n",
       "  </thead>\n",
       "  <tbody>\n",
       "    <tr>\n",
       "      <th>0</th>\n",
       "      <td>Id</td>\n",
       "      <td>Id2</td>\n",
       "      <td>Geography</td>\n",
       "      <td>Total; Estimate; Households</td>\n",
       "      <td>Total; Margin of Error; Households</td>\n",
       "      <td>Median income (dollars); Estimate; Households</td>\n",
       "      <td>Median income (dollars); Margin of Error; Hous...</td>\n",
       "      <td>Total; Estimate; Households - One race-- - White</td>\n",
       "      <td>Total; Margin of Error; Households - One race-...</td>\n",
       "      <td>Median income (dollars); Estimate; Households ...</td>\n",
       "      <td>...</td>\n",
       "      <td>Median income (dollars); Estimate; PERCENT IMP...</td>\n",
       "      <td>Median income (dollars); Margin of Error; PERC...</td>\n",
       "      <td>Total; Estimate; PERCENT IMPUTED - Family inco...</td>\n",
       "      <td>Total; Margin of Error; PERCENT IMPUTED - Fami...</td>\n",
       "      <td>Median income (dollars); Estimate; PERCENT IMP...</td>\n",
       "      <td>Median income (dollars); Margin of Error; PERC...</td>\n",
       "      <td>Total; Estimate; PERCENT IMPUTED - Nonfamily i...</td>\n",
       "      <td>Total; Margin of Error; PERCENT IMPUTED - Nonf...</td>\n",
       "      <td>Median income (dollars); Estimate; PERCENT IMP...</td>\n",
       "      <td>Median income (dollars); Margin of Error; PERC...</td>\n",
       "    </tr>\n",
       "    <tr>\n",
       "      <th>1</th>\n",
       "      <td>1400000US36061000100</td>\n",
       "      <td>36061000100</td>\n",
       "      <td>Census Tract 1, New York County, New York</td>\n",
       "      <td>0</td>\n",
       "      <td>12</td>\n",
       "      <td>-</td>\n",
       "      <td>**</td>\n",
       "      <td>-</td>\n",
       "      <td>**</td>\n",
       "      <td>-</td>\n",
       "      <td>...</td>\n",
       "      <td>(X)</td>\n",
       "      <td>(X)</td>\n",
       "      <td>-</td>\n",
       "      <td>(X)</td>\n",
       "      <td>(X)</td>\n",
       "      <td>(X)</td>\n",
       "      <td>-</td>\n",
       "      <td>(X)</td>\n",
       "      <td>(X)</td>\n",
       "      <td>(X)</td>\n",
       "    </tr>\n",
       "  </tbody>\n",
       "</table>\n",
       "<p>2 rows × 123 columns</p>\n",
       "</div>"
      ],
      "text/plain": [
       "                 GEO.id      GEO.id2  \\\n",
       "0                    Id          Id2   \n",
       "1  1400000US36061000100  36061000100   \n",
       "\n",
       "                           GEO.display-label                HC01_EST_VC02  \\\n",
       "0                                  Geography  Total; Estimate; Households   \n",
       "1  Census Tract 1, New York County, New York                            0   \n",
       "\n",
       "                        HC01_MOE_VC02  \\\n",
       "0  Total; Margin of Error; Households   \n",
       "1                                  12   \n",
       "\n",
       "                                   HC02_EST_VC02  \\\n",
       "0  Median income (dollars); Estimate; Households   \n",
       "1                                              -   \n",
       "\n",
       "                                       HC02_MOE_VC02  \\\n",
       "0  Median income (dollars); Margin of Error; Hous...   \n",
       "1                                                 **   \n",
       "\n",
       "                                      HC01_EST_VC04  \\\n",
       "0  Total; Estimate; Households - One race-- - White   \n",
       "1                                                 -   \n",
       "\n",
       "                                       HC01_MOE_VC04  \\\n",
       "0  Total; Margin of Error; Households - One race-...   \n",
       "1                                                 **   \n",
       "\n",
       "                                       HC02_EST_VC04  \\\n",
       "0  Median income (dollars); Estimate; Households ...   \n",
       "1                                                  -   \n",
       "\n",
       "                         ...                          \\\n",
       "0                        ...                           \n",
       "1                        ...                           \n",
       "\n",
       "                                       HC02_EST_VC39  \\\n",
       "0  Median income (dollars); Estimate; PERCENT IMP...   \n",
       "1                                                (X)   \n",
       "\n",
       "                                       HC02_MOE_VC39  \\\n",
       "0  Median income (dollars); Margin of Error; PERC...   \n",
       "1                                                (X)   \n",
       "\n",
       "                                       HC01_EST_VC40  \\\n",
       "0  Total; Estimate; PERCENT IMPUTED - Family inco...   \n",
       "1                                                  -   \n",
       "\n",
       "                                       HC01_MOE_VC40  \\\n",
       "0  Total; Margin of Error; PERCENT IMPUTED - Fami...   \n",
       "1                                                (X)   \n",
       "\n",
       "                                       HC02_EST_VC40  \\\n",
       "0  Median income (dollars); Estimate; PERCENT IMP...   \n",
       "1                                                (X)   \n",
       "\n",
       "                                       HC02_MOE_VC40  \\\n",
       "0  Median income (dollars); Margin of Error; PERC...   \n",
       "1                                                (X)   \n",
       "\n",
       "                                       HC01_EST_VC41  \\\n",
       "0  Total; Estimate; PERCENT IMPUTED - Nonfamily i...   \n",
       "1                                                  -   \n",
       "\n",
       "                                       HC01_MOE_VC41  \\\n",
       "0  Total; Margin of Error; PERCENT IMPUTED - Nonf...   \n",
       "1                                                (X)   \n",
       "\n",
       "                                       HC02_EST_VC41  \\\n",
       "0  Median income (dollars); Estimate; PERCENT IMP...   \n",
       "1                                                (X)   \n",
       "\n",
       "                                       HC02_MOE_VC41  \n",
       "0  Median income (dollars); Margin of Error; PERC...  \n",
       "1                                                (X)  \n",
       "\n",
       "[2 rows x 123 columns]"
      ]
     },
     "execution_count": 7,
     "metadata": {},
     "output_type": "execute_result"
    }
   ],
   "source": [
    "Manhattan_income.head(2)"
   ]
  },
  {
   "cell_type": "markdown",
   "metadata": {},
   "source": [
    "Looking at the ACS data, I will need to rename the columns appropriately."
   ]
  },
  {
   "cell_type": "code",
   "execution_count": 12,
   "metadata": {},
   "outputs": [
    {
     "name": "stderr",
     "output_type": "stream",
     "text": [
      "C:\\Users\\Eric\\Anaconda3\\lib\\site-packages\\pandas\\core\\frame.py:3781: SettingWithCopyWarning: \n",
      "A value is trying to be set on a copy of a slice from a DataFrame\n",
      "\n",
      "See the caveats in the documentation: http://pandas.pydata.org/pandas-docs/stable/indexing.html#indexing-view-versus-copy\n",
      "  return super(DataFrame, self).rename(**kwargs)\n"
     ]
    }
   ],
   "source": [
    "#Pull relevant columns and rename according to descriptions in dataset\n",
    "\n",
    "# rename functions\n",
    "def rename_income(income):\n",
    "    income = income[['GEO.display-label','HC02_EST_VC02']]\n",
    "    income.rename(columns={\"HC02_EST_VC02\": \"Median_Income\", 'GEO.display-label':'census_tract'},inplace=True)\n",
    "    return(income)\n",
    "\n",
    "def rename_poverty(poverty):\n",
    "    poverty = poverty[['GEO.display-label', 'HC03_EST_VC01']]\n",
    "    poverty.rename(columns={\"HC03_EST_VC01\": \"percent_below_poverty\", 'GEO.display-label':'census_tract'},inplace=True)\n",
    "    return(poverty)\n",
    "\n",
    "def rename_race(race):\n",
    "    race = race[['GEO.display-label','HD01_VD01','HD01_VD02','HD01_VD03','HD01_VD05','HD01_VD08']]\n",
    "    race.rename(columns={'HD01_VD01':'Total_pop','HD01_VD02':'white','HD01_VD03':'black','HD01_VD05':'asian',\n",
    "                               'HD01_VD08':\"mixed\", 'GEO.display-label':'census_tract'},inplace=True)\n",
    "    return(race)\n",
    "\n",
    "def rename_hispanic(hispanic):\n",
    "    hispanic = hispanic[['GEO.display-label','HD01_VD01','HD01_VD02','HD01_VD03']]\n",
    "    hispanic.rename(columns={'HD01_VD01':'total_pop_hisp_data','HD01_VD02':'hispanic','HD01_VD03':'non_hispanic', \n",
    "                                   'GEO.display-label':'census_tract'},inplace=True)\n",
    "    return(hispanic)\n",
    "\n",
    "Manhattan_income = rename_income(Manhattan_income)\n",
    "Bronx_income = rename_income(Bronx_income)\n",
    "Brooklyn_income = rename_income(Brooklyn_income)\n",
    "Queens_income = rename_income(Queens_income)\n",
    "StatenIsland_income = rename_income(StatenIsland_income)\n",
    "\n",
    "Manhattan_poverty = rename_poverty(Manhattan_poverty)\n",
    "Bronx_poverty = rename_poverty(Bronx_poverty)\n",
    "Brooklyn_poverty = rename_poverty(Brooklyn_poverty)\n",
    "Queens_poverty = rename_poverty(Queens_poverty)\n",
    "StatenIsland_poverty = rename_poverty(StatenIsland_poverty)\n",
    "\n",
    "Manhattan_race = rename_race(Manhattan_race)\n",
    "Bronx_race = rename_race(Bronx_race)\n",
    "Brooklyn_race = rename_race(Brooklyn_race)\n",
    "Queens_race = rename_race(Queens_race)\n",
    "StatenIsland_race = rename_race(StatenIsland_race)\n",
    "\n",
    "Manhattan_hispanic = rename_hispanic(Manhattan_hispanic)\n",
    "Bronx_hispanic = rename_hispanic(Bronx_hispanic)\n",
    "Brooklyn_hispanic = rename_hispanic(Brooklyn_hispanic)\n",
    "Queens_hispanic = rename_hispanic(Queens_hispanic)\n",
    "StatenIsland_hispanic = rename_hispanic(StatenIsland_hispanic)\n",
    "\n"
   ]
  },
  {
   "cell_type": "code",
   "execution_count": 14,
   "metadata": {},
   "outputs": [],
   "source": [
    "# Merge on Census Tract\n",
    "\n",
    "def merge_on_tract(poverty, income, race, hispanic):\n",
    "    x = pd.merge(poverty, income\n",
    "        ,how='outer',on='census_tract')\n",
    "    x = pd.merge(x, race\n",
    "        ,how='outer',on='census_tract')\n",
    "    x = pd.merge(x, hispanic\n",
    "        ,how='outer',on='census_tract')\n",
    "    return(x)\n",
    "\n",
    "x_man = merge_on_tract(Manhattan_poverty, Manhattan_income, Manhattan_race, Manhattan_hispanic)\n",
    "x_brx = merge_on_tract(Bronx_poverty, Bronx_income, Bronx_race, Bronx_hispanic)\n",
    "x_bkn = merge_on_tract(Brooklyn_poverty, Brooklyn_income, Brooklyn_race, Brooklyn_hispanic)\n",
    "x_qns = merge_on_tract(Queens_poverty, Queens_income, Queens_race, Queens_hispanic)\n",
    "x_st = merge_on_tract(StatenIsland_poverty, StatenIsland_income, StatenIsland_race, StatenIsland_hispanic)\n"
   ]
  },
  {
   "cell_type": "code",
   "execution_count": 75,
   "metadata": {},
   "outputs": [],
   "source": [
    "ACS_data = pd.DataFrame()\n",
    "ACS_data = x_man.append(x_brx,ignore_index=True, sort=False)\n",
    "ACS_data = ACS_data.append(x_bkn,ignore_index=True, sort=False)\n",
    "ACS_data = ACS_data.append(x_qns,ignore_index=True, sort=False)\n",
    "ACS_data = ACS_data.append(x_st,ignore_index=True, sort=False)\n",
    "ACS_data = ACS_data.drop(columns = ['GEO.id','GEO.id2','HD02_VD01','HD02_VD02','HD02_VD03'])\n",
    "ACS_data = ACS_data.drop(ACS_data.index[0]) # Row for describing column names"
   ]
  },
  {
   "cell_type": "code",
   "execution_count": 76,
   "metadata": {},
   "outputs": [
    {
     "data": {
      "text/plain": [
       "1       Census Tract 1, New York County, New York\n",
       "2    Census Tract 2.01, New York County, New York\n",
       "3    Census Tract 2.02, New York County, New York\n",
       "4       Census Tract 5, New York County, New York\n",
       "5       Census Tract 6, New York County, New York\n",
       "Name: census_tract, dtype: object"
      ]
     },
     "execution_count": 76,
     "metadata": {},
     "output_type": "execute_result"
    }
   ],
   "source": [
    "# Census Tract mus be reformatted before combining with NYC dats\n",
    "ACS_data.census_tract.head()"
   ]
  },
  {
   "cell_type": "code",
   "execution_count": 94,
   "metadata": {},
   "outputs": [
    {
     "data": {
      "text/plain": [
       "1    1\n",
       "2    2\n",
       "3    2\n",
       "4    5\n",
       "5    6\n",
       "Name: census_tract, dtype: int32"
      ]
     },
     "execution_count": 94,
     "metadata": {},
     "output_type": "execute_result"
    }
   ],
   "source": [
    "ACS_data['census_tract'] = pd.to_numeric(ACS_data['census_tract'],errors='coerce')\n",
    "ACS_data['census_tract'] = np.floor(ACS_data['census_tract']).astype(int)\n",
    "ACS_data.census_tract.head()"
   ]
  },
  {
   "cell_type": "markdown",
   "metadata": {},
   "source": [
    "## Feature Engineering"
   ]
  },
  {
   "cell_type": "markdown",
   "metadata": {},
   "source": [
    "Here I include geospatial feature engineering. First the lead index which computes the proportion of lead labels within a 1/4 km radius around each building. Then, a nearest neighbor comparison which computes, for each buildin, the relative distance to the closest nonlead and lead service lines to compare which is the nearest neighbor."
   ]
  },
  {
   "cell_type": "code",
   "execution_count": 122,
   "metadata": {},
   "outputs": [],
   "source": [
    "from shapely import wkt\n",
    "import geopandas as gp\n",
    "from shapely.geometry import Polygon, Point\n",
    "\n",
    "locations = merged_data['the_geom_x']\n",
    "merged = merged_data.copy()\n",
    "merged['the_geom'] = locations.apply(wkt.loads)\n",
    "merged['longitude'] = gp.GeoSeries(merged['the_geom']).centroid.x\n",
    "merged['latitude'] = gp.GeoSeries(merged['the_geom']).centroid.y\n",
    "\n",
    "gdf = geopandas.GeoDataFrame(\n",
    "    merged, geometry=[Point(x, y) for x, y in zip(merged.longitude, merged.latitude)])\n"
   ]
  },
  {
   "cell_type": "code",
   "execution_count": null,
   "metadata": {},
   "outputs": [],
   "source": [
    "# Find proportion of lead in 0.25 km radius for each building\n",
    "\n",
    "def lead_index_quarter(p):\n",
    "    # Lat/lon radius of 0.25 km in NYC\n",
    "    delta_lat_quarter = .0225 \n",
    "    delta_lon_quarter = .002965\n",
    "    px = p.x\n",
    "    py=p.y\n",
    "    cts = gdf[(gdf['latitude']<py+delta_lat_quarter) & (gdf['longitude']<px+delta_lon_quarter) & (gdf['latitude']>py-delta_lat_quarter) & (gdf['longitude']>px-delta_lon_quarter)]['Pipe Material'].value_counts(normalize=True)\n",
    "    if (cts.shape[0]==2): return(cts[1])\n",
    "    elif (cts.index[0]=='Lead'): return(1)\n",
    "    else: return(0)\n",
    "\n",
    "gdf = gdf.geometry.apply(lead_index_quarter)\n"
   ]
  },
  {
   "cell_type": "markdown",
   "metadata": {},
   "source": [
    "Next we compute nearest neighbor comparison. "
   ]
  },
  {
   "cell_type": "code",
   "execution_count": null,
   "metadata": {},
   "outputs": [],
   "source": [
    "# The distance between two coordinates varies by location on Earth. Need to convert to km.\n",
    "\n",
    "def haversine(coord1, coord2):\n",
    "    import math\n",
    "    \n",
    "    # Coordinates in decimal degrees (e.g. 40.2, -73.9)\n",
    "    lon1, lat1 = coord1.x, coord1.y\n",
    "    lon2, lat2 = coord2.x, coord2.y\n",
    "    R = 6371000  # radius of Earth in meters\n",
    "    phi_1 = math.radians(lat1)\n",
    "    phi_2 = math.radians(lat2)\n",
    "\n",
    "    delta_phi = math.radians(lat2 - lat1)\n",
    "    delta_lambda = math.radians(lon2 - lon1)\n",
    "\n",
    "    a = math.sin(delta_phi / 2.0) ** 2 + math.cos(phi_1) * math.cos(phi_2) * math.sin(delta_lambda / 2.0) ** 2\n",
    "\n",
    "    c = 2 * math.atan2(math.sqrt(a), math.sqrt(1 - a))\n",
    "\n",
    "    meters = R * c  # output distance in meters\n",
    "    km = meters / 1000.0  # output distance in kilometers\n",
    "\n",
    "    return(km)\n"
   ]
  },
  {
   "cell_type": "code",
   "execution_count": null,
   "metadata": {},
   "outputs": [],
   "source": [
    "# Compute Nearest neighbor comparison. Dist(Closest Nonlead) - Dist(closest lead)\n",
    "\n",
    "%%time\n",
    "# Check in small radius around each building, expand if necessary. \n",
    "# This is to avoid comparing buildings we know to be far apart\n",
    "\n",
    "delta_lat = .0009\n",
    "delta_lon = .00012\n",
    "\n",
    "\n",
    "temp = geo_frame\n",
    "\n",
    "\n",
    "    for index, row in geo_frame.iterrows():\n",
    "    \n",
    "        point = row.geometry\n",
    "        px = point.x\n",
    "        py = point.y\n",
    "        temp = geo_frame[(geo_frame['latitude']<py+delta_lat) & (geo_frame['longitude']<px+delta_lon) & (geo_frame['latitude']>py-delta_lat) & (geo_frame['longitude']>px-delta_lon)]\n",
    "    \n",
    "        while (len(temp.PipeMaterial.drop(index, axis=0).value_counts()) != 2):\n",
    "            delta_lat= 2*delta_lat\n",
    "            delta_lon= 2*delta_lon\n",
    "            temp = geo_frame[(geo_frame['latitude']<py+delta_lat) & (geo_frame['longitude']<px+delta_lon) & (geo_frame['latitude']>py-delta_lat) & (geo_frame['longitude']>px-delta_lon)]\n",
    "    \n",
    "\n",
    "\n",
    "        if (row.PipeMaterial == 'Lead'):\n",
    "            multipoint = temp[temp['PipeMaterial'] == 'Lead'].drop(index, axis=0).geometry.unary_union\n",
    "            queried_geom, nearest_geom = nearest_points(point, multipoint)\n",
    "            geo_frame.loc[index, 'nearest_LSL_dist'] = haversine(point,nearest_geom)\n",
    "    \n",
    "            multipoint = temp[temp['PipeMaterial'] == 'Not Lead'].geometry.unary_union\n",
    "            queried_geom, nearest_geom = nearest_points(point, multipoint)\n",
    "            geo_frame.loc[index, 'nearest_NLSL_dist'] = haversine(point,nearest_geom)\n",
    "        elif (row.PipeMaterial == 'Not Lead'):\n",
    "            multipoint = temp[temp['PipeMaterial'] == 'Lead'].geometry.unary_union\n",
    "            queried_geom, nearest_geom = nearest_points(point, multipoint)\n",
    "            geo_frame.loc[index, 'nearest_LSL_dist'] = haversine(point,nearest_geom)\n",
    "    \n",
    "            multipoint = temp[temp['PipeMaterial'] == 'Not Lead'].drop(index, axis=0).geometry.unary_union\n",
    "            queried_geom, nearest_geom = nearest_points(point, multipoint)\n",
    "            geo_frame.loc[index, 'nearest_NLSL_dist'] = haversine(point,nearest_geom)\n",
    "\n",
    "    \n"
   ]
  }
 ],
 "metadata": {
  "kernelspec": {
   "display_name": "Python 3",
   "language": "python",
   "name": "python3"
  },
  "language_info": {
   "codemirror_mode": {
    "name": "ipython",
    "version": 3
   },
   "file_extension": ".py",
   "mimetype": "text/x-python",
   "name": "python",
   "nbconvert_exporter": "python",
   "pygments_lexer": "ipython3",
   "version": "3.7.0"
  }
 },
 "nbformat": 4,
 "nbformat_minor": 2
}
