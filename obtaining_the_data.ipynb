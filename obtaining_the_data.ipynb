{
 "cells": [
  {
   "cell_type": "code",
   "execution_count": 1,
   "metadata": {},
   "outputs": [],
   "source": [
    "#Import necessary libraries\n",
    "import pandas as pd\n",
    "import numpy as np\n",
    "import seaborn as sns\n",
    "import matplotlib.pyplot as plt\n",
    "import matplotlib.mlab as mlab\n",
    "import sklearn\n",
    "from shapely.geometry import multipolygon\n",
    "import shapely.wkt\n",
    "import geopandas\n",
    "import sodapy as Socrata\n",
    "import requests"
   ]
  },
  {
   "cell_type": "code",
   "execution_count": 3,
   "metadata": {},
   "outputs": [
    {
     "name": "stdout",
     "output_type": "stream",
     "text": [
      "The NYC dataset contains 857536 addresses with labels: Not Lead, Unknown, Potential Lead, Non-Applicable.\n",
      "The percentage of addresses labeled Not Lead: 56.081727181132926\n",
      "The percentage of addresses labeled Lead: 16.133550078364056\n",
      "The percentage of addresses labeled Unknown: 27.69248171505336\n",
      "The percentage of addresses labeled Non-applicable: 0.09224102544966042\n"
     ]
    }
   ],
   "source": [
    "# Download the data from NYC open data\n",
    "NYC = pd.read_csv('insight/NYC_WaterConnections.csv')\n",
    "\n",
    "total_addresses = NYC.shape[0]\n",
    "percent_not_lead = NYC.loc[NYC['Material_G']=='Not Lead'].shape[0]/total_addresses\n",
    "percent_lead = NYC.loc[NYC['Material_G']=='Potential Lead'].shape[0]/total_addresses\n",
    "percent_unknown = NYC.loc[NYC['Material_G']=='Unknown'].shape[0]/total_addresses\n",
    "percent_NA = NYC.loc[NYC['Material_G']=='Non-Applicable'].shape[0]/total_addresses\n",
    "\n",
    "print('The NYC dataset contains', total_addresses, 'addresses with labels: Not Lead, Unknown, Lead, Non-Applicable.')\n",
    "print('The percentage of addresses labeled Not Lead:', percent_not_lead*100)\n",
    "print('The percentage of addresses labeled Lead:', percent_lead*100)\n",
    "print('The percentage of addresses labeled Unknown:', percent_unknown*100)\n",
    "print('The percentage of addresses labeled Non-applicable:', percent_NA*100)"
   ]
  },
  {
   "cell_type": "code",
   "execution_count": 15,
   "metadata": {},
   "outputs": [
    {
     "data": {
      "text/plain": [
       "(619272, 9)"
      ]
     },
     "execution_count": 15,
     "metadata": {},
     "output_type": "execute_result"
    }
   ],
   "source": [
    "# Drop unknown labels\n",
    "NYC.rename(columns={\"Material_G\": \"Pipe Material\"}, inplace=True)\n",
    "NYC_lead=NYC[(NYC['Pipe Material']=='Lead') | (NYC['Pipe Material']=='Not Lead')  ]\n"
   ]
  },
  {
   "cell_type": "code",
   "execution_count": null,
   "metadata": {},
   "outputs": [],
   "source": [
    "# New York City Open Data\n",
    "# https://data.cityofnewyork.us/City-Government/Property-Valuation-and-Assessment-Data/yjxr-fw8i\n",
    "socrata_domain = 'data.cityofnewyork.us'\n",
    "socrata_dataset_identifier = 'yjxr-fw8i'\n",
    "app_token = 'ZK2rqIcpP6zuUNuyUQA0Qe6Mr'\n",
    "\n",
    "client = Socrata.Socrata(socrata_domain, app_token)\n",
    "\n"
   ]
  },
  {
   "cell_type": "code",
   "execution_count": null,
   "metadata": {},
   "outputs": [],
   "source": [
    "# Here we match the list of labeled addresses with Property and Tax Information updated in January 2020. \n",
    "# This includes building value, dimensions, location, census tract, tax class (building type).\n",
    "\n",
    "\n",
    "df_2019 = pd.DataFrame()\n",
    "\n",
    "loop_size = 50000\n",
    "num_loops = 151\n",
    "\n",
    "# can maybe do where in list(bbl.astype(str))\n",
    "for i in range(num_loops):\n",
    "    results = client.get(socrata_dataset_identifier,\n",
    "                         select = 'avland, avland2, avtot, avtot2, bble, bin, blddepth, bldfront, census_tract, community_board, council_district, easement, exland,exland2, extot, extot2, fullval, ltdepth, ltfront, nta, owner, stories, taxclass, valtype, zip',\n",
    "                         limit=loop_size,\n",
    "                         offset=loop_size * i)\n",
    "    df_query = pd.DataFrame.from_dict(results)\n",
    "    df_query.drop_duplicates(subset='bble', keep='first', inplace=True)\n",
    "    df_2019 = df_2019.append(df_query[df_query['bble'].isin(list(bbl.astype(str)))],sort=False, ignore_index=False)"
   ]
  },
  {
   "cell_type": "code",
   "execution_count": 17,
   "metadata": {},
   "outputs": [
    {
     "name": "stdout",
     "output_type": "stream",
     "text": [
      "Shape lead: (619272, 9)\n",
      "Shape building: (1084844, 15)\n",
      "Shape property: (619185, 26)\n"
     ]
    }
   ],
   "source": [
    "# Every building in NYC is identified by BBL code (borough, building, lot)\n",
    "# The building data set includes construction year for each building by BBL\n",
    "building = pd.read_csv(\"insight/NYC_building.csv\")\n",
    "\n",
    "\n",
    "df_2019 = pd.read_csv(\"insight/df_2019_unique.csv\")\n",
    "temp_lead = NYC_lead\n",
    "temp_building = building\n",
    "temp_property = df_2019\n",
    "print('Shape lead:',temp_lead.shape )\n",
    "print('Shape building:', temp_building.shape)\n",
    "print('Shape property:', temp_property.shape)"
   ]
  },
  {
   "cell_type": "markdown",
   "metadata": {},
   "source": [
    "## Feature Engineering"
   ]
  },
  {
   "cell_type": "code",
   "execution_count": null,
   "metadata": {},
   "outputs": [],
   "source": [
    "# Distance between two latitude/longitude coordinates depends on location on Earth.\n",
    "\n",
    "def haversine(coord1, coord2):\n",
    "    import math\n",
    "    \n",
    "    # Coordinates in decimal degrees (e.g. 40.2, -73.9)\n",
    "    lon1, lat1 = coord1.x, coord1.y\n",
    "    lon2, lat2 = coord2.x, coord2.y\n",
    "    R = 6371000  # radius of Earth in meters\n",
    "    phi_1 = math.radians(lat1)\n",
    "    phi_2 = math.radians(lat2)\n",
    "\n",
    "    delta_phi = math.radians(lat2 - lat1)\n",
    "    delta_lambda = math.radians(lon2 - lon1)\n",
    "\n",
    "    a = math.sin(delta_phi / 2.0) ** 2 + math.cos(phi_1) * math.cos(phi_2) * math.sin(delta_lambda / 2.0) ** 2\n",
    "\n",
    "    c = 2 * math.atan2(math.sqrt(a), math.sqrt(1 - a))\n",
    "\n",
    "    meters = R * c  # output distance in meters\n",
    "    km = meters / 1000.0  # output distance in kilometers\n",
    "\n",
    "    return(km)\n"
   ]
  },
  {
   "cell_type": "code",
   "execution_count": null,
   "metadata": {},
   "outputs": [],
   "source": [
    "# Compute Nearest\n",
    "\n",
    "%%time\n",
    "delta_lat = .0009\n",
    "delta_lon = .00012\n",
    "\n",
    "\n",
    "temp = geo_frame\n",
    "\n",
    "\n",
    "    for index, row in geo_frame.iterrows():\n",
    "    \n",
    "        point = row.geometry\n",
    "        px = point.x\n",
    "        py = point.y\n",
    "        temp = geo_frame[(geo_frame['latitude']<py+delta_lat) & (geo_frame['longitude']<px+delta_lon) & (geo_frame['latitude']>py-delta_lat) & (geo_frame['longitude']>px-delta_lon)]\n",
    "    \n",
    "        while (len(temp.PipeMaterial.drop(index, axis=0).value_counts()) != 2):\n",
    "            delta_lat= 2*delta_lat\n",
    "            delta_lon= 2*delta_lon\n",
    "            temp = geo_frame[(geo_frame['latitude']<py+delta_lat) & (geo_frame['longitude']<px+delta_lon) & (geo_frame['latitude']>py-delta_lat) & (geo_frame['longitude']>px-delta_lon)]\n",
    "    \n",
    "\n",
    "\n",
    "        if (row.PipeMaterial == 'Lead'):\n",
    "            multipoint = temp[temp['PipeMaterial'] == 'Lead'].drop(index, axis=0).geometry.unary_union\n",
    "            queried_geom, nearest_geom = nearest_points(point, multipoint)\n",
    "            geo_frame.loc[index, 'nearest_LSL_dist'] = haversine(point,nearest_geom)\n",
    "    \n",
    "            multipoint = temp[temp['PipeMaterial'] == 'Not Lead'].geometry.unary_union\n",
    "            queried_geom, nearest_geom = nearest_points(point, multipoint)\n",
    "            geo_frame.loc[index, 'nearest_NLSL_dist'] = haversine(point,nearest_geom)\n",
    "        elif (row.PipeMaterial == 'Not Lead'):\n",
    "            multipoint = temp[temp['PipeMaterial'] == 'Lead'].geometry.unary_union\n",
    "            queried_geom, nearest_geom = nearest_points(point, multipoint)\n",
    "            geo_frame.loc[index, 'nearest_LSL_dist'] = haversine(point,nearest_geom)\n",
    "    \n",
    "            multipoint = temp[temp['PipeMaterial'] == 'Not Lead'].drop(index, axis=0).geometry.unary_union\n",
    "            queried_geom, nearest_geom = nearest_points(point, multipoint)\n",
    "            geo_frame.loc[index, 'nearest_NLSL_dist'] = haversine(point,nearest_geom)\n",
    "\n",
    "    \n"
   ]
  }
 ],
 "metadata": {
  "kernelspec": {
   "display_name": "Python 3",
   "language": "python",
   "name": "python3"
  },
  "language_info": {
   "codemirror_mode": {
    "name": "ipython",
    "version": 3
   },
   "file_extension": ".py",
   "mimetype": "text/x-python",
   "name": "python",
   "nbconvert_exporter": "python",
   "pygments_lexer": "ipython3",
   "version": "3.7.0"
  }
 },
 "nbformat": 4,
 "nbformat_minor": 2
}
